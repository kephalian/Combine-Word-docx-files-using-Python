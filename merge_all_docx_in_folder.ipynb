{
 "cells": [
  {
   "cell_type": "markdown",
   "metadata": {},
   "source": [
    "----\n",
    "### Merge all word files found in the current working directory\n",
    "## Dependency\n",
    "python-docx package\n",
    "docx package\n",
    "PySimpleGUI for GUI"
   ]
  },
  {
   "cell_type": "code",
   "execution_count": 43,
   "metadata": {},
   "outputs": [],
   "source": [
    "from docxcompose.composer import Composer\n",
    "from docx import Document\n",
    "import os, sys\n",
    "import tempfile\n",
    "import PySimpleGUI as sg\n",
    "import lxml"
   ]
  },
  {
   "cell_type": "markdown",
   "metadata": {},
   "source": [
    "For PyInstaller this environmental variable is needed in relative path\n",
    "Does nothing in Normal use "
   ]
  },
  {
   "cell_type": "code",
   "execution_count": 44,
   "metadata": {},
   "outputs": [],
   "source": [
    "def resource_path(relative_path):\n",
    "    base_path = getattr(sys, '_MEIPASS', os.path.dirname(os.path.abspath(__file__)))\n",
    "    return os.path.join(base_path, relative_path)\n"
   ]
  },
  {
   "cell_type": "markdown",
   "metadata": {},
   "source": [
    "Create  temporary file path needed for merginng docx files"
   ]
  },
  {
   "cell_type": "code",
   "execution_count": 45,
   "metadata": {},
   "outputs": [],
   "source": [
    "temp_file=tempfile.NamedTemporaryFile(prefix=\"Temp_master\")\n",
    "temp_file_name=temp_file.name\n",
    "temp_file.close()\n"
   ]
  },
  {
   "cell_type": "markdown",
   "metadata": {},
   "source": [
    "Set theme of GUI"
   ]
  },
  {
   "cell_type": "code",
   "execution_count": 46,
   "metadata": {},
   "outputs": [
    {
     "data": {
      "text/plain": [
       "'Material2'"
      ]
     },
     "execution_count": 46,
     "metadata": {},
     "output_type": "execute_result"
    }
   ],
   "source": [
    "sg.theme(\"material2\")"
   ]
  },
  {
   "cell_type": "markdown",
   "metadata": {},
   "source": [
    "Get the File name of the merged docx and validate input "
   ]
  },
  {
   "cell_type": "code",
   "execution_count": 47,
   "metadata": {},
   "outputs": [],
   "source": [
    "f_name=sg.popup_get_text(\"Input file name to save as Joined/ Merged DOCX\", title=\"Input merged DOCX file name\",default_text=\"result\")\n",
    "if f_name is None: sys.exit()\n",
    "if len(f_name)<=0: sys.exit()\n",
    "f_name=f_name+\".docx\""
   ]
  },
  {
   "cell_type": "markdown",
   "metadata": {},
   "source": [
    "List docx Word documents in the current directory, load them in List files"
   ]
  },
  {
   "cell_type": "code",
   "execution_count": 48,
   "metadata": {},
   "outputs": [],
   "source": [
    "files = [a for a in os.listdir() if a.endswith(\".docx\") or a.endswith(\".DOCX\")]"
   ]
  },
  {
   "cell_type": "markdown",
   "metadata": {},
   "source": [
    "Parse through the list adding the Word files to a document\n",
    "\n",
    "Change document2=Document(resource_path(\"default.docx\")) for PyInstaller builds"
   ]
  },
  {
   "cell_type": "code",
   "execution_count": 50,
   "metadata": {},
   "outputs": [
    {
     "ename": "AttributeError",
     "evalue": "'str' object has no attribute 'add_paragraph'",
     "output_type": "error",
     "traceback": [
      "\u001b[1;31m---------------------------------------------------------------------------\u001b[0m",
      "\u001b[1;31mAttributeError\u001b[0m                            Traceback (most recent call last)",
      "\u001b[1;32mc:\\Users\\user\\Desktop\\Python_docx files\\PRODUCTION\\MERGE WORD\\merge_all_docx_in_folder.ipynb Cell 14\u001b[0m in \u001b[0;36m<cell line: 3>\u001b[1;34m()\u001b[0m\n\u001b[0;32m      <a href='vscode-notebook-cell:/c%3A/Users/user/Desktop/Python_docx%20files/PRODUCTION/MERGE%20WORD/merge_all_docx_in_folder.ipynb#X16sZmlsZQ%3D%3D?line=3'>4</a>\u001b[0m document2 \u001b[39m=\u001b[39m \u001b[39m\"\u001b[39m\u001b[39mdefault.docx\u001b[39m\u001b[39m\"\u001b[39m\n\u001b[0;32m      <a href='vscode-notebook-cell:/c%3A/Users/user/Desktop/Python_docx%20files/PRODUCTION/MERGE%20WORD/merge_all_docx_in_folder.ipynb#X16sZmlsZQ%3D%3D?line=4'>5</a>\u001b[0m \u001b[39m#Document(resource_path(\"default.docx\"))\u001b[39;00m\n\u001b[0;32m      <a href='vscode-notebook-cell:/c%3A/Users/user/Desktop/Python_docx%20files/PRODUCTION/MERGE%20WORD/merge_all_docx_in_folder.ipynb#X16sZmlsZQ%3D%3D?line=5'>6</a>\u001b[0m \u001b[39m##This code is vital without which the program will crash\u001b[39;00m\n\u001b[0;32m      <a href='vscode-notebook-cell:/c%3A/Users/user/Desktop/Python_docx%20files/PRODUCTION/MERGE%20WORD/merge_all_docx_in_folder.ipynb#X16sZmlsZQ%3D%3D?line=6'>7</a>\u001b[0m \u001b[39m#document2.add_heading('Joined the docx', 0)\u001b[39;00m\n\u001b[0;32m      <a href='vscode-notebook-cell:/c%3A/Users/user/Desktop/Python_docx%20files/PRODUCTION/MERGE%20WORD/merge_all_docx_in_folder.ipynb#X16sZmlsZQ%3D%3D?line=7'>8</a>\u001b[0m \u001b[39m# U can comment if you want a heading that shows the name of Word file merged at the start of the section\u001b[39;00m\n\u001b[1;32m----> <a href='vscode-notebook-cell:/c%3A/Users/user/Desktop/Python_docx%20files/PRODUCTION/MERGE%20WORD/merge_all_docx_in_folder.ipynb#X16sZmlsZQ%3D%3D?line=8'>9</a>\u001b[0m p2 \u001b[39m=\u001b[39m document2\u001b[39m.\u001b[39;49madd_paragraph(\u001b[39m'\u001b[39m\u001b[39m\\n\u001b[39;00m\u001b[39m\\r\u001b[39;00m\u001b[39m'\u001b[39m)\n\u001b[0;32m     <a href='vscode-notebook-cell:/c%3A/Users/user/Desktop/Python_docx%20files/PRODUCTION/MERGE%20WORD/merge_all_docx_in_folder.ipynb#X16sZmlsZQ%3D%3D?line=9'>10</a>\u001b[0m document2\u001b[39m.\u001b[39madd_page_break()\n\u001b[0;32m     <a href='vscode-notebook-cell:/c%3A/Users/user/Desktop/Python_docx%20files/PRODUCTION/MERGE%20WORD/merge_all_docx_in_folder.ipynb#X16sZmlsZQ%3D%3D?line=10'>11</a>\u001b[0m document2\u001b[39m.\u001b[39msave(temp_file_name)\n",
      "\u001b[1;31mAttributeError\u001b[0m: 'str' object has no attribute 'add_paragraph'"
     ]
    }
   ],
   "source": [
    "\n",
    "from docxcompose.composer import Composer\n",
    "from docx import Document\n",
    "if os.path.isfile(temp_file_name) is False:\n",
    "        document2 = \"default.docx\"\n",
    "        #Document(resource_path(\"default.docx\"))\n",
    "        ##This code is vital without which the program will crash\n",
    "        #document2.add_heading('Joined the docx', 0)\n",
    "        # U can comment if you want a heading that shows the name of Word file merged at the start of the section\n",
    "        p2 = document2.add_paragraph('\\n\\r')\n",
    "        document2.add_page_break()\n",
    "        document2.save(temp_file_name)"
   ]
  },
  {
   "cell_type": "markdown",
   "metadata": {},
   "source": [
    "Create our merged document and add this document to the new document"
   ]
  },
  {
   "cell_type": "code",
   "execution_count": null,
   "metadata": {},
   "outputs": [],
   "source": [
    "master = Document(temp_file_name)\n",
    "composer = Composer(master)\n",
    "for file_ in files:\n",
    "    if file_==temp_file_name: continue\n",
    "    doc1 = Document(file_)\n",
    "    composer.append(doc1)"
   ]
  },
  {
   "cell_type": "markdown",
   "metadata": {},
   "source": [
    "Save our work and inform user that we succeeded"
   ]
  },
  {
   "cell_type": "code",
   "execution_count": null,
   "metadata": {},
   "outputs": [],
   "source": [
    "composer.save(f_name)\n",
    "#sg.popup(temp_file_name)\n",
    "os.remove(temp_file_name)\n",
    "sg.popup(f\"Saved {f_name}\")"
   ]
  },
  {
   "cell_type": "markdown",
   "metadata": {},
   "source": [
    "---"
   ]
  }
 ],
 "metadata": {
  "kernelspec": {
   "display_name": "Python 3.10.4 64-bit",
   "language": "python",
   "name": "python3"
  },
  "language_info": {
   "codemirror_mode": {
    "name": "ipython",
    "version": 3
   },
   "file_extension": ".py",
   "mimetype": "text/x-python",
   "name": "python",
   "nbconvert_exporter": "python",
   "pygments_lexer": "ipython3",
   "version": "3.10.4"
  },
  "orig_nbformat": 4,
  "vscode": {
   "interpreter": {
    "hash": "369f2c481f4da34e4445cda3fffd2e751bd1c4d706f27375911949ba6bb62e1c"
   }
  }
 },
 "nbformat": 4,
 "nbformat_minor": 2
}
